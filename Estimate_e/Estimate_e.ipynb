{
 "cells": [
  {
   "cell_type": "code",
   "execution_count": 119,
   "metadata": {},
   "outputs": [],
   "source": [
    "import random\n",
    "from matplotlib import pyplot as plt\n",
    "import numpy as np\n",
    "import numpy.random as rand\n",
    "from math import pi as pi\n",
    "from statistics import mean "
   ]
  },
  {
   "cell_type": "code",
   "execution_count": 123,
   "metadata": {},
   "outputs": [
    {
     "data": {
      "text/plain": [
       "['__class__',\n",
       " '__delattr__',\n",
       " '__dir__',\n",
       " '__doc__',\n",
       " '__eq__',\n",
       " '__format__',\n",
       " '__ge__',\n",
       " '__getattribute__',\n",
       " '__gt__',\n",
       " '__hash__',\n",
       " '__init__',\n",
       " '__init_subclass__',\n",
       " '__le__',\n",
       " '__lt__',\n",
       " '__ne__',\n",
       " '__new__',\n",
       " '__reduce__',\n",
       " '__reduce_ex__',\n",
       " '__repr__',\n",
       " '__setattr__',\n",
       " '__sizeof__',\n",
       " '__str__',\n",
       " '__subclasshook__']"
      ]
     },
     "execution_count": 123,
     "metadata": {},
     "output_type": "execute_result"
    }
   ],
   "source": [
    "dir(object)"
   ]
  },
  {
   "cell_type": "markdown",
   "metadata": {},
   "source": [
    "# Draw the sample and put into a container"
   ]
  },
  {
   "cell_type": "code",
   "execution_count": 109,
   "metadata": {},
   "outputs": [],
   "source": [
    "class Estimate_e(object):\n",
    "    \"\"\"\n",
    "    Using the MCMC method and base on the Bayesian Inference, \n",
    "    estimate the posterior probability for e(the base of normal distribution)\n",
    "    \"\"\"\n",
    "    def __init__(self,number_points):\n",
    "        \"\"\"\n",
    "        Initialize the estimate\n",
    "        \n",
    "        Parameters\n",
    "        ------------\n",
    "        number_points: int\n",
    "            Controls the number of points generated using normal distribution, thus control the number of data points.\n",
    "        \n",
    "        Attributes:\n",
    "        data: list\n",
    "            Store data in the this data list for further analyzation\n",
    "            \n",
    "        \"\"\"\n",
    "        self.data = [rand.normal() for _ in range(number_points)]\n",
    "        \n",
    "    \n",
    "\n",
    "    def posterior(self,a):\n",
    "        \"\"\"\n",
    "        Calculate posterior based on Bayesian Theorem\n",
    "        \n",
    "        Parameters\n",
    "        --------------\n",
    "        x:float\n",
    "            calculate the posterior for a particular value of parameter a\n",
    "        \n",
    "        \"\"\"\n",
    "        # We use a uniform prior p(a), which is independent of a\n",
    "        post = 1\n",
    "        for x in self.data:\n",
    "            post = post * np.sqrt( np.log(a) / (2 * pi) ) * np.exp( - np.log(a) * x**2 / 2 ) \n",
    "        \n",
    "        return post\n",
    "        \n",
    "        "
   ]
  },
  {
   "cell_type": "markdown",
   "metadata": {},
   "source": [
    "# Define a MCMC class to evolve the states and form a MCMC chain"
   ]
  },
  {
   "cell_type": "code",
   "execution_count": 110,
   "metadata": {},
   "outputs": [],
   "source": [
    "class MCMC(Estimate_e):\n",
    "    \"\"\"\n",
    "    Defines the MCMC\n",
    "    \"\"\"\n",
    "    def __init__(\n",
    "        self,\n",
    "        number_points, \n",
    "        steps = 10**4, \n",
    "        initial_state = 2):\n",
    "        \"\"\"\n",
    "        initialize the initial state\n",
    "                \n",
    "        Parameters\n",
    "        -------------\n",
    "        steps: int\n",
    "            That's how many steps we're gonna run in the MCMC chain.\n",
    "        initial_state: float\n",
    "            Which value do we want to start in the parameter space.\n",
    "        \"\"\"\n",
    "        super().__init__(number_points)\n",
    "        self.steps = steps\n",
    "        self.states = [initial_state]#.append([0 for _ in range(steps - 1)])\n",
    "        self.current_state = initial_state\n",
    "        #Estimate_e.data\n",
    "                \n",
    "    def gen_fcn(self, sigma = 1):\n",
    "        \"\"\"\n",
    "        defines the generating function\n",
    "                \n",
    "        Parameters:\n",
    "        -----------------\n",
    "        mcmcstep: int\n",
    "            Tells the generator which step we are at so that it knows where \n",
    "            in the self.states list to find the current state.\n",
    "        sigma: float\n",
    "            The variance of the normal distribution that makes up the generating function.\n",
    "        \"\"\"\n",
    "        a=0\n",
    "        while a<=1:\n",
    "            a = rand.normal(self.current_state, sigma)\n",
    "        return a\n",
    "            \n",
    "\n",
    "    def evolve(self, sigma = 1):\n",
    "        \"\"\"\n",
    "        Evolve according to my current state and generating function\n",
    "                \n",
    "        Parameters\n",
    "        ---------------\n",
    "        sigma:float\n",
    "            The variance of the normal distribution that makes up the generating function.\n",
    "                    \n",
    "        \"\"\"\n",
    "        for _ in range(self.steps):\n",
    "            a = self.gen_fcn(sigma)\n",
    "            r = rand.uniform()\n",
    "            ratio = self.posterior(a) / self.posterior(self.current_state) \n",
    "            if r < ratio:\n",
    "                self.states.append(a)\n",
    "                self.current_state = a\n",
    "            if r >= ratio:\n",
    "                self.states.append(self.current_state)  \n",
    "        print(\"number of states generated is\" + str(len(self.states)))\n",
    "        print(\"number of steps is\" + str(self.steps))\n",
    "        return self.states\n",
    "                        \n",
    "                "
   ]
  },
  {
   "cell_type": "markdown",
   "metadata": {},
   "source": [
    "# Now let's try to use the classes"
   ]
  },
  {
   "cell_type": "code",
   "execution_count": null,
   "metadata": {},
   "outputs": [],
   "source": [
    "#Estimate_e(100)\n",
    "MCMCChain = MCMC(100)\n",
    "MCMCChain.evolve(sigma = 0.1)"
   ]
  },
  {
   "cell_type": "code",
   "execution_count": 120,
   "metadata": {},
   "outputs": [
    {
     "name": "stdout",
     "output_type": "stream",
     "text": [
      "Estimation of e is 2.878991278959816\n"
     ]
    }
   ],
   "source": [
    "print(\"Estimation of e is \" + str(mean(MCMCChain.states)))"
   ]
  },
  {
   "cell_type": "markdown",
   "metadata": {},
   "source": [
    "# Now let's try to plot and see if we've got it right"
   ]
  },
  {
   "cell_type": "code",
   "execution_count": 124,
   "metadata": {},
   "outputs": [
    {
     "data": {
      "text/plain": [
       "(array([  1.,   0.,   4.,   5.,   7.,   8.,  18.,  33.,  20.,  31.,  37.,\n",
       "         43.,  42.,  59.,  64.,  64.,  87.,  95., 102., 118., 133., 154.,\n",
       "        157., 168., 206., 173., 207., 178., 208., 234., 218., 232., 201.,\n",
       "        220., 246., 241., 233., 253., 272., 233., 222., 239., 224., 230.,\n",
       "        237., 225., 196., 224., 193., 208., 201., 194., 184., 155., 149.,\n",
       "        156., 159., 145., 129.,  99., 105.,  85.,  86.,  98.,  77.,  83.,\n",
       "         75.,  68.,  70.,  59.,  52.,  34.,  35.,  25.,  28.,  31.,  17.,\n",
       "         23.,  17.,  20.,  22.,  14.,  10.,  11.,  22.,   2.,   8.,   8.,\n",
       "          7.,   3.,   7.,   9.,   1.,   4.,   1.,   5.,   4.,   0.,   0.,\n",
       "          1.]),\n",
       " array([1.89918747, 1.92307532, 1.94696318, 1.97085103, 1.99473889,\n",
       "        2.01862674, 2.0425146 , 2.06640245, 2.0902903 , 2.11417816,\n",
       "        2.13806601, 2.16195387, 2.18584172, 2.20972958, 2.23361743,\n",
       "        2.25750529, 2.28139314, 2.305281  , 2.32916885, 2.35305671,\n",
       "        2.37694456, 2.40083241, 2.42472027, 2.44860812, 2.47249598,\n",
       "        2.49638383, 2.52027169, 2.54415954, 2.5680474 , 2.59193525,\n",
       "        2.61582311, 2.63971096, 2.66359882, 2.68748667, 2.71137453,\n",
       "        2.73526238, 2.75915023, 2.78303809, 2.80692594, 2.8308138 ,\n",
       "        2.85470165, 2.87858951, 2.90247736, 2.92636522, 2.95025307,\n",
       "        2.97414093, 2.99802878, 3.02191664, 3.04580449, 3.06969234,\n",
       "        3.0935802 , 3.11746805, 3.14135591, 3.16524376, 3.18913162,\n",
       "        3.21301947, 3.23690733, 3.26079518, 3.28468304, 3.30857089,\n",
       "        3.33245875, 3.3563466 , 3.38023445, 3.40412231, 3.42801016,\n",
       "        3.45189802, 3.47578587, 3.49967373, 3.52356158, 3.54744944,\n",
       "        3.57133729, 3.59522515, 3.619113  , 3.64300086, 3.66688871,\n",
       "        3.69077656, 3.71466442, 3.73855227, 3.76244013, 3.78632798,\n",
       "        3.81021584, 3.83410369, 3.85799155, 3.8818794 , 3.90576726,\n",
       "        3.92965511, 3.95354297, 3.97743082, 4.00131867, 4.02520653,\n",
       "        4.04909438, 4.07298224, 4.09687009, 4.12075795, 4.1446458 ,\n",
       "        4.16853366, 4.19242151, 4.21630937, 4.24019722, 4.26408508,\n",
       "        4.28797293]),\n",
       " <a list of 100 Patch objects>)"
      ]
     },
     "execution_count": 124,
     "metadata": {},
     "output_type": "execute_result"
    },
    {
     "data": {
      "image/png": "[encoded data removed]",
      "text/plain": [
       "<Figure size 432x288 with 1 Axes>"
      ]
     },
     "metadata": {
      "needs_background": "light"
     },
     "output_type": "display_data"
    }
   ],
   "source": [
    "plt.figure(1)\n",
    "plt.subplot(211)\n",
    "\n",
    "plt.hist(MCMCChain.states , bins = 100)\n",
    "#plt.show()"
   ]
  },
  {
   "cell_type": "code",
   "execution_count": 125,
   "metadata": {},
   "outputs": [
    {
     "name": "stdout",
     "output_type": "stream",
     "text": [
      "Estimation of e using posterior is 1.3191296290233422e-62\n"
     ]
    },
    {
     "data": {
      "image/png": "[encoded data removed]",
      "text/plain": [
       "<Figure size 432x288 with 1 Axes>"
      ]
     },
     "metadata": {
      "needs_background": "light"
     },
     "output_type": "display_data"
    }
   ],
   "source": [
    "xval = np.linspace(1.5,5,1000)\n",
    "yval = MCMCChain.posterior(xval)\n",
    "print(\"Estimation of e using posterior is \" + str(mean(yval)))\n",
    "plt.subplot(212)\n",
    "plt.plot(xval,yval, 'r')\n",
    "plt.show()"
   ]
  },
  {
   "cell_type": "code",
   "execution_count": null,
   "metadata": {},
   "outputs": [],
   "source": []
  }
 ],
 "metadata": {
  "kernelspec": {
   "display_name": "Python 3",
   "language": "python",
   "name": "python3"
  },
  "language_info": {
   "codemirror_mode": {
    "name": "ipython",
    "version": 3
   },
   "file_extension": ".py",
   "mimetype": "text/x-python",
   "name": "python",
   "nbconvert_exporter": "python",
   "pygments_lexer": "ipython3",
   "version": "3.7.6"
  }
 },
 "nbformat": 4,
 "nbformat_minor": 4
}
